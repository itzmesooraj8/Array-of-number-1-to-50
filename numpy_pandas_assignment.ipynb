{
 "cells": [
  {
   "cell_type": "code",
   "execution_count": 2,
   "id": "c4bfdc51",
   "metadata": {},
   "outputs": [],
   "source": [
    "# NumPy & Pandas assignment\n",
    "# Objective: hands-on practice with NumPy and Pandas to perform basic data analysis and manipulation.\n",
    "# \n",
    "# This notebook implements the tasks from the provided screenshot and prints outputs for each step."
   ]
  },
  {
   "cell_type": "code",
   "execution_count": 3,
   "id": "b9098788",
   "metadata": {},
   "outputs": [],
   "source": [
    "# Imports and setup\n",
    "import numpy as np\n",
    "import pandas as pd\n",
    "np.random.seed(0)  # for reproducible random numbers\n"
   ]
  },
  {
   "cell_type": "code",
   "execution_count": 4,
   "id": "030f2eb1",
   "metadata": {},
   "outputs": [
    {
     "name": "stdout",
     "output_type": "stream",
     "text": [
      "Original 5x10 matrix:\n",
      " [[ 1  2  3  4  5  6  7  8  9 10]\n",
      " [11 12 13 14 15 16 17 18 19 20]\n",
      " [21 22 23 24 25 26 27 28 29 30]\n",
      " [31 32 33 34 35 36 37 38 39 40]\n",
      " [41 42 43 44 45 46 47 48 49 50]]\n",
      "\n",
      "Transpose (10x5):\n",
      " [[ 1 11 21 31 41]\n",
      " [ 2 12 22 32 42]\n",
      " [ 3 13 23 33 43]\n",
      " [ 4 14 24 34 44]\n",
      " [ 5 15 25 35 45]\n",
      " [ 6 16 26 36 46]\n",
      " [ 7 17 27 37 47]\n",
      " [ 8 18 28 38 48]\n",
      " [ 9 19 29 39 49]\n",
      " [10 20 30 40 50]]\n"
     ]
    }
   ],
   "source": [
    "# Task 1: Create a NumPy array 1..50, reshape to 5x10 and print transpose\n",
    "arr = np.arange(1,51)\n",
    "mat = arr.reshape(5,10)\n",
    "print(\"Original 5x10 matrix:\\n\", mat)\n",
    "print(\"\\nTranspose (10x5):\\n\", mat.T)\n"
   ]
  },
  {
   "cell_type": "code",
   "execution_count": 5,
   "id": "54eda130",
   "metadata": {},
   "outputs": [
    {
     "name": "stdout",
     "output_type": "stream",
     "text": [
      "Random integers (first 20 shown): [685 560 630 193 836 764 708 360  10 724 278 755 805 600  71 473 601 397\n",
      " 315 706]\n",
      "Mean: 524.97\n",
      "Median: 551.50\n",
      "Std deviation: 287.08\n"
     ]
    }
   ],
   "source": [
    "# Task 2: Generate 100 random integers between 1 and 1000 and compute mean, median, std\n",
    "rand_ints = np.random.randint(1,1001,size=100)\n",
    "print(\"Random integers (first 20 shown):\", rand_ints[:20])\n",
    "print(f\"Mean: {rand_ints.mean():.2f}\")\n",
    "print(f\"Median: {np.median(rand_ints):.2f}\")\n",
    "print(f\"Std deviation: {rand_ints.std():.2f}\")\n"
   ]
  },
  {
   "cell_type": "code",
   "execution_count": 6,
   "id": "615bfd37",
   "metadata": {},
   "outputs": [
    {
     "name": "stdout",
     "output_type": "stream",
     "text": [
      "Series:\n",
      " 0     apple\n",
      "1    banana\n",
      "2    orange\n",
      "3     apple\n",
      "4      kiwi\n",
      "5    banana\n",
      "6     apple\n",
      "dtype: object\n",
      "\n",
      "Value counts:\n",
      " apple     3\n",
      "banana    2\n",
      "orange    1\n",
      "kiwi      1\n",
      "Name: count, dtype: int64\n",
      "\n",
      "Unique fruits: ['apple' 'banana' 'orange' 'kiwi']\n"
     ]
    }
   ],
   "source": [
    "# Task 3: Create a Pandas Series from a list of fruits and display basic statistics\n",
    "fruits = ['apple','banana','orange','apple','kiwi','banana','apple']\n",
    "s = pd.Series(fruits)\n",
    "print(\"Series:\\n\", s)\n",
    "print(\"\\nValue counts:\\n\", s.value_counts())\n",
    "print(\"\\nUnique fruits:\", s.unique())\n"
   ]
  },
  {
   "cell_type": "code",
   "execution_count": 7,
   "id": "b34a9f13",
   "metadata": {},
   "outputs": [
    {
     "name": "stdout",
     "output_type": "stream",
     "text": [
      "DataFrame:\n",
      "       Name  Age Gender  Score\n",
      "0    Alice   25      F     88\n",
      "1      Bob   30      M     92\n",
      "2  Charlie   22      M     67\n",
      "3    Diana   35      F     95\n",
      "4    Ethan   28      M     73\n",
      "\n",
      "Top 3 rows:\n",
      "       Name  Age Gender  Score\n",
      "0    Alice   25      F     88\n",
      "1      Bob   30      M     92\n",
      "2  Charlie   22      M     67\n",
      "\n",
      "Rows with Score > 80:\n",
      "     Name  Age Gender  Score\n",
      "0  Alice   25      F     88\n",
      "1    Bob   30      M     92\n",
      "3  Diana   35      F     95\n",
      "\n",
      "DataFrame with Grade column:\n",
      "       Name  Age Gender  Score Grade\n",
      "0    Alice   25      F     88     B\n",
      "1      Bob   30      M     92     A\n",
      "2  Charlie   22      M     67     D\n",
      "3    Diana   35      F     95     A\n",
      "4    Ethan   28      M     73     C\n"
     ]
    }
   ],
   "source": [
    "# Task 4: Create a DataFrame with sample data and perform operations\n",
    "data = {\n",
    "    'Name': ['Alice','Bob','Charlie','Diana','Ethan'],\n",
    "    'Age': [25, 30, 22, 35, 28],\n",
    "    'Gender': ['F','M','M','F','M'],\n",
    "    'Score': [88, 92, 67, 95, 73]\n",
    "}\n",
    "df = pd.DataFrame(data)\n",
    "print(\"DataFrame:\\n\", df)\n",
    "\n",
    "# a) Display top 3 rows\n",
    "print(\"\\nTop 3 rows:\\n\", df.head(3))\n",
    "# b) Filter rows where Score > 80\n",
    "print(\"\\nRows with Score > 80:\\n\", df[df['Score']>80])\n",
    "# c) Add a Grade column based on Score\n",
    "def grade_from_score(s):\n",
    "    if s>=90:\n",
    "        return 'A'\n",
    "    elif s>=80:\n",
    "        return 'B'\n",
    "    elif s>=70:\n",
    "        return 'C'\n",
    "    elif s>=60:\n",
    "        return 'D'\n",
    "    else:\n",
    "        return 'F'\n",
    "df['Grade'] = df['Score'].apply(grade_from_score)\n",
    "print(\"\\nDataFrame with Grade column:\\n\", df)\n"
   ]
  }
 ],
 "metadata": {
  "kernelspec": {
   "display_name": "Python 3",
   "language": "python",
   "name": "python3"
  },
  "language_info": {
   "codemirror_mode": {
    "name": "ipython",
    "version": 3
   },
   "file_extension": ".py",
   "mimetype": "text/x-python",
   "name": "python",
   "nbconvert_exporter": "python",
   "pygments_lexer": "ipython3",
   "version": "3.12.10"
  }
 },
 "nbformat": 4,
 "nbformat_minor": 5
}
